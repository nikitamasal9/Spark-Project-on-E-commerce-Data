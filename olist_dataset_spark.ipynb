{
 "cells": [
  {
   "cell_type": "code",
   "execution_count": 28,
   "metadata": {},
   "outputs": [],
   "source": [
    "from pyspark.sql import SparkSession\n",
    "import pyspark.sql.functions as f\n",
    "\n",
    "spark = SparkSession.builder\\\n",
    "                    .appName(\"Spark project\")\\\n",
    "                    .config('spark.driver.extraClassPath','/usr/lib/jvm/java-17-openjdk-amd64/lib/postgresql-42.6.0.jar')\\\n",
    "                    .getOrCreate()"
   ]
  },
  {
   "cell_type": "markdown",
   "metadata": {},
   "source": [
    "Importing all the cleaned dataframes from postgresql"
   ]
  },
  {
   "cell_type": "code",
   "execution_count": 29,
   "metadata": {},
   "outputs": [],
   "source": [
    "table_names = [\"customer_df\",\"seller_df\",\"geolocation_df\",\"order_item_df\",\"order_payment_df\",\"orders_df\",\"product_df\",\"reviews_df\"]\n",
    "table_dataframes = {}\n",
    "\n",
    "jdbc_url = \"jdbc:postgresql://localhost:5432/postgres\"\n",
    "connection_properties = {\n",
    "    \"user\": \"nikita\",\n",
    "    \"password\": \"1234\",\n",
    "    \"driver\": \"org.postgresql.Driver\"\n",
    "}\n",
    "\n",
    "for table_name in table_names:\n",
    "    df = spark.read.jdbc(url=jdbc_url, table=table_name, properties=connection_properties)\n",
    "    \n",
    "    table_dataframes[table_name] = df"
   ]
  },
  {
   "cell_type": "markdown",
   "metadata": {},
   "source": [
    "extracting dataframes from the dictionary"
   ]
  },
  {
   "cell_type": "code",
   "execution_count": 30,
   "metadata": {},
   "outputs": [],
   "source": [
    "customer_df = table_dataframes[\"customer_df\"]\n",
    "seller_df = table_dataframes[\"seller_df\"]\n",
    "geolocation_df = table_dataframes[\"geolocation_df\"]\n",
    "order_item_df = table_dataframes[\"order_item_df\"]\n",
    "order_payment_df = table_dataframes[\"order_payment_df\"]\n",
    "orders_df = table_dataframes[\"orders_df\"]\n",
    "product_df = table_dataframes[\"product_df\"]\n",
    "reviews_df = table_dataframes[\"reviews_df\"]"
   ]
  },
  {
   "cell_type": "markdown",
   "metadata": {},
   "source": [
    "### Metrics 1 \n",
    "Finding the distance between the customer and seller for each order.\n",
    "Finding the average distance that the sellers from each state have sold the products i.e. the average radius of distance covered by sellers of each state"
   ]
  },
  {
   "cell_type": "code",
   "execution_count": 31,
   "metadata": {},
   "outputs": [],
   "source": [
    "# Creating two same tables but with different name to join later for customer and seller location.\n",
    "geoloacation_df_cust = geolocation_df.selectExpr('geolocation_zip_code_prefix as geolocation_zip_code_prefix_cust', 'geolocation_lat as geolocation_lat_cust', 'geolocation_lng as geolocation_lng_cust')\n",
    "geoloacation_df_sell = geolocation_df.selectExpr('geolocation_zip_code_prefix as geolocation_zip_code_prefix_sell', 'geolocation_lat as geolocation_lat_sell', 'geolocation_lng as geolocation_lng_sell')\n",
    "jointype = 'inner'"
   ]
  },
  {
   "cell_type": "code",
   "execution_count": 32,
   "metadata": {},
   "outputs": [],
   "source": [
    "geoloacation_df_cust_broadcast = f.broadcast(geoloacation_df_cust)\n",
    "geoloacation_df_sell_broadcast = f.broadcast(geoloacation_df_sell)\n",
    "\n",
    "single_joined_table = (\n",
    "    customer_df.alias('c')\n",
    "    .join(geoloacation_df_cust_broadcast.alias('gc'), f.col('c.customer_zip_code_prefix') == f.col('gc.geolocation_zip_code_prefix_cust'), jointype)\n",
    "    .select(\n",
    "        \"c.customer_id\",\n",
    "        \"c.customer_zip_code_prefix\",\n",
    "        \"gc.geolocation_lat_cust\",\n",
    "        \"gc.geolocation_lng_cust\"\n",
    "    )\n",
    "    .join(orders_df.alias('o'), f.col('c.customer_id') == f.col('o.customer_id'), jointype)\n",
    "    .join(order_item_df.alias('oi'), f.col('o.order_id') == f.col('oi.order_id'), jointype)\n",
    "    .join(seller_df.alias('s'), f.col('oi.seller_id') == f.col('s.seller_id'), jointype)\n",
    "    .join(geoloacation_df_sell_broadcast.alias('gs'), f.col('s.seller_zip_code_prefix') == f.col('gs.geolocation_zip_code_prefix_sell'), jointype)\n",
    "    .select(\n",
    "        \"o.order_id\",\n",
    "        \"oi.product_id\",\n",
    "        \"c.customer_id\",\n",
    "        \"c.customer_zip_code_prefix\",\n",
    "        \"gc.geolocation_lat_cust\",\n",
    "        \"gc.geolocation_lng_cust\",\n",
    "        \"oi.seller_id\",\n",
    "        \"s.seller_zip_code_prefix\",\n",
    "        \"s.seller_state\",\n",
    "        \"gs.geolocation_lat_sell\",\n",
    "        \"gs.geolocation_lng_sell\"\n",
    "    )\n",
    ")\n",
    "\n"
   ]
  },
  {
   "cell_type": "code",
   "execution_count": 34,
   "metadata": {},
   "outputs": [],
   "source": [
    "single_joined_table = single_joined_table.dropDuplicates()"
   ]
  },
  {
   "cell_type": "code",
   "execution_count": 37,
   "metadata": {},
   "outputs": [
    {
     "name": "stderr",
     "output_type": "stream",
     "text": [
      "[Stage 61:===========>                                              (1 + 4) / 5]\r"
     ]
    },
    {
     "name": "stdout",
     "output_type": "stream",
     "text": [
      "+--------------------+--------------------+--------------------+--------------------+------------------+\n",
      "|            order_id|          product_id|         customer_id|           seller_id|       distance_km|\n",
      "+--------------------+--------------------+--------------------+--------------------+------------------+\n",
      "|00018f77f2f0320c5...|e5f2d52b802189ee6...|f6dd3ec061db4e398...|dd7ddc04e1b6c2c61...| 585.5639365873883|\n",
      "|00042b26cf59d7ce6...|ac6c3623068f30de0...|58dbd0b2d70206bf4...|df560393f3a51e745...|  646.163462432375|\n",
      "|00054e8431b9d7675...|8d4f2bb7e93e6710a...|32e2e6ab09e778d99...|7040e82f899a04d1b...|484.86016437388383|\n",
      "|0006ec9db01a64e59...|99a4788cb24856965...|5d178120c29c61748...|4a3ca9315b744ce9f...| 566.2993727151662|\n",
      "|000aed2e25dbad2f9...|4fa33915031a8cde0...|fff5169e583fd07fa...|fe2032dab1a61af87...| 37.93670543869258|\n",
      "|0015ebb40fb17286b...|50fd2b788dc166edd...|da43a556bf5c36a11...|8b321bb669392f516...| 779.5632051061305|\n",
      "|001c85b5f68d2be0c...|84f45695836516442...|48ed31e735f1c420e...|4a3ca9315b744ce9f...|309.81103852863123|\n",
      "|002834535f7a609a5...|df3655ac9aa8c6cbf...|89a6b1bfbe1b36650...|ea8482cd71df3c196...|2136.4341437773382|\n",
      "|00310b0c75bb13015...|c8e7c2ef329fcda4a...|0dad07848c618cc5a...|a2deecd5398f5df49...|495.68986612722483|\n",
      "|0032d07457ae9c806...|08279c494018541f7...|d356c20816dc75a30...|e333046ce6517bd8b...| 647.5835959547328|\n",
      "|00337fe25a3780b34...|1f9799a175f50c9fa...|4b1b5c848616a4b5f...|cfb1a033743668a19...| 73.74013125964719|\n",
      "|00337fe25a3780b34...|13944d17b25743271...|4b1b5c848616a4b5f...|cfb1a033743668a19...| 73.74013125964719|\n",
      "|0045e3085f083f0f3...|9545d45c37449ccbc...|eb729faa993caad20...|431af27f296bc6519...|289.07280601592777|\n",
      "|0066a1fdaee16ad50...|2fb0efd1f61f186ff...|f19b59fc51f101023...|1d8dbc4f32378d715...| 821.0272543077425|\n",
      "|006dd93155bc2abd8...|1ec486885049bbb9b...|1b9506de3da8fd318...|cab85505710c7cb9b...|14.887211785107162|\n",
      "|006f7dfffe2d90809...|aacfae7cd4bac4849...|6031cd91d182925af...|729b2d09b2a0bdab2...|160.16891533129098|\n",
      "|0072847849eafe709...|0f80705139ce16ea3...|727dc68f327d34b77...|de23c3b98a8888828...|151.54320269999758|\n",
      "|0079bca8e89bd52fd...|19421075ae0b585f2...|137f50d5bfbcfb957...|4c2b230173bb36f9b...|24.121839806812652|\n",
      "|007ff0b0f79be782f...|e819fddd6622f30e8...|fc021f2dd664b4945...|7139dc5186aa238b0...| 426.0878486142477|\n",
      "|008720830a8a30e39...|22d65c4f3ab25834d...|f1af79ed0c452b79f...|7a67c85e85bb2ce85...| 21.71082692936189|\n",
      "+--------------------+--------------------+--------------------+--------------------+------------------+\n",
      "only showing top 20 rows\n",
      "\n"
     ]
    },
    {
     "name": "stderr",
     "output_type": "stream",
     "text": [
      "                                                                                \r"
     ]
    }
   ],
   "source": [
    "# Convert latitude and longitude from degrees to radians\n",
    "single_joined_table = single_joined_table.withColumn(\"geolocation_lat_cust_rad\", f.radians(single_joined_table[\"geolocation_lat_cust\"]).cast(\"double\"))\n",
    "single_joined_table = single_joined_table.withColumn(\"geolocation_lng_cust_rad\", f.radians(single_joined_table[\"geolocation_lng_cust\"]).cast(\"double\"))\n",
    "single_joined_table = single_joined_table.withColumn(\"geolocation_lat_sell_rad\", f.radians(single_joined_table[\"geolocation_lat_sell\"]).cast(\"double\"))\n",
    "single_joined_table = single_joined_table.withColumn(\"geolocation_lng_sell_rad\", f.radians(single_joined_table[\"geolocation_lng_sell\"]).cast(\"double\"))\n",
    "\n",
    "# Calculate the distance using the spherical law of cosines\n",
    "single_joined_table = single_joined_table.withColumn(\n",
    "    \"distance_km\",\n",
    "    f.acos(\n",
    "        f.sin(\"geolocation_lat_cust_rad\") * f.sin(\"geolocation_lat_sell_rad\") +\n",
    "        f.cos(\"geolocation_lat_cust_rad\") * f.cos(\"geolocation_lat_sell_rad\") *\n",
    "        f.cos(f.col(\"geolocation_lng_sell_rad\") - f.col(\"geolocation_lng_cust_rad\"))\n",
    "    ).cast(\"double\") * 6371.0  # Radius of the Earth in kilometers\n",
    ")\n",
    "\n",
    "# Drop the intermediate columns\n",
    "single_joined_table = single_joined_table.drop(\n",
    "    \"geolocation_lat_cust_rad\",\n",
    "    \"geolocation_lng_cust_rad\",\n",
    "    \"geolocation_lat_sell_rad\",\n",
    "    \"geolocation_lng_sell_rad\"\n",
    ")\n",
    "\n",
    "# Show the DataFrame with the distance column\n",
    "distance_output = single_joined_table.select(\"order_id\",\"product_id\",\"customer_id\",\"seller_id\",\"distance_km\")\n",
    "distance_output.show()\n"
   ]
  },
  {
   "cell_type": "code",
   "execution_count": 38,
   "metadata": {},
   "outputs": [],
   "source": []
  },
  {
   "cell_type": "code",
   "execution_count": 39,
   "metadata": {},
   "outputs": [
    {
     "name": "stderr",
     "output_type": "stream",
     "text": [
      "                                                                                \r"
     ]
    }
   ],
   "source": [
    "sp_df = single_joined_table.filter((single_joined_table[\"seller_state\"] == \"SP\") & single_joined_table[\"distance_km\"].isNotNull() & (single_joined_table[\"distance_km\"] > 0))\n",
    "distance_sp = sp_df.withColumn('distance_km', f.col('distance_km').cast('int'))\n",
    "\n",
    "state_analysis1 = distance_sp.agg(\n",
    "    f.avg(\"distance_km\").alias(\"avg_distance_km\")\n",
    ")\n",
    "\n",
    "avg_distance_km = state_analysis1.collect()[0][\"avg_distance_km\"]\n",
    "# print(avg_distance_km)"
   ]
  },
  {
   "cell_type": "code",
   "execution_count": 40,
   "metadata": {},
   "outputs": [
    {
     "name": "stderr",
     "output_type": "stream",
     "text": [
      "[Stage 100:==============>                                          (2 + 6) / 8]\r"
     ]
    },
    {
     "name": "stdout",
     "output_type": "stream",
     "text": [
      "+------------+------------------+-------------+\n",
      "|seller_state|   avg_distance_km|product_count|\n",
      "+------------+------------------+-------------+\n",
      "|          SC| 753.7405041684843|         3740|\n",
      "|          RO|2346.7543054473085|           14|\n",
      "|          AM| 2327.352004471721|            3|\n",
      "|          GO| 853.2263712439288|          479|\n",
      "|          MT|1362.8805506454491|          140|\n",
      "|          SP| 542.2997957662903|        72474|\n",
      "|          ES| 813.4300862053252|          322|\n",
      "|          PB|1467.8169404798093|           37|\n",
      "|          RS| 987.2585178058513|         2011|\n",
      "|          MS|1025.6576592571016|           48|\n",
      "|          MG| 599.5672389875979|         8058|\n",
      "|          BA|1121.6669708294878|          566|\n",
      "|          PE|1582.9759712125626|          408|\n",
      "|          CE|1655.7044046332737|           89|\n",
      "|          RN| 946.9384882129613|           54|\n",
      "|          RJ| 582.9235003097515|         4396|\n",
      "|          MA|1939.3039258196295|          395|\n",
      "|          DF| 852.2064586337052|          789|\n",
      "|          PR| 723.8504900423003|         7858|\n",
      "|          PI|1425.1618972350077|           12|\n",
      "+------------+------------------+-------------+\n",
      "only showing top 20 rows\n",
      "\n"
     ]
    },
    {
     "name": "stderr",
     "output_type": "stream",
     "text": [
      "                                                                                \r"
     ]
    }
   ],
   "source": [
    "average_distance_by_state = single_joined_table.groupBy(\"seller_state\")\n",
    "\n",
    "state_analysis = average_distance_by_state.agg(\n",
    "    f.avg(\"distance_km\").alias(\"avg_distance_km\"),\n",
    "    f.count(\"product_id\").alias(\"product_count\")\n",
    ")\n",
    "\n",
    "state_analysis = state_analysis.na.fill(avg_distance_km, subset=[\"avg_distance_km\"])\n",
    "\n",
    "state_analysis.show()\n"
   ]
  },
  {
   "cell_type": "code",
   "execution_count": 41,
   "metadata": {},
   "outputs": [],
   "source": [
    "state_analysis.write.format('jdbc').options(url='jdbc:postgresql://localhost:5432/postgres',driver = 'org.postgresql.Driver', dbtable = 'seller_average_distance', user='nikita',password='1234').mode('overwrite').save()"
   ]
  },
  {
   "cell_type": "markdown",
   "metadata": {},
   "source": [
    "### Metrics 2"
   ]
  },
  {
   "cell_type": "code",
   "execution_count": 42,
   "metadata": {},
   "outputs": [
    {
     "name": "stderr",
     "output_type": "stream",
     "text": [
      "[Stage 163:===================================>                     (5 + 3) / 8]\r"
     ]
    },
    {
     "name": "stdout",
     "output_type": "stream",
     "text": [
      "+---------------------+---+---+------------------+-------+------------------+------------------+-----------------+---+------------------+-----------------+-------+---+------------------+------------------+------+------------------+------------------+------+-------+------------------+------------------+-----------------+------------------+\n",
      "|product_category_name| AC| AM|                BA|     CE|                DF|                ES|               GO| MA|                MG|               MS|     MT| PA|                PB|                PE|    PI|                PR|                RJ|    RN|     RO|                RS|                SC|               SE|                SP|\n",
      "+---------------------+---+---+------------------+-------+------------------+------------------+-----------------+---+------------------+-----------------+-------+---+------------------+------------------+------+------------------+------------------+------+-------+------------------+------------------+-----------------+------------------+\n",
      "|                  art|0.0|0.0|               0.0|    0.0|            249.16|               0.0|          6726.66|0.0|           1459.92|              0.0|    0.0|0.0|               0.0|               0.0|   0.0| 682.1500000000001|            818.01|   0.0|    0.0|            113.11|            945.45|              0.0|          17821.47|\n",
      "|              flowers|0.0|0.0|               0.0|    0.0|               0.0|               0.0|              0.0|0.0|               0.0|              0.0|    0.0|0.0|               0.0|               0.0|   0.0|               0.0|             47.14|   0.0|    0.0|               0.0|               0.0|              0.0|           1747.73|\n",
      "|    home_construction|0.0|0.0|               0.0|    0.0|               0.0|            234.37|              0.0|0.0|            464.86|              0.0|    0.0|0.0|               0.0|               0.0|   0.0|           2969.31|           3056.02|   0.0|    0.0|           5827.83|3374.3399999999997|              0.0| 90960.63999999998|\n",
      "| fashion_male_clot...|0.0|0.0|               0.0|    0.0|               0.0|               0.0|              0.0|0.0|            216.83|              0.0|    0.0|0.0|               0.0|               0.0|   0.0|               0.0|               0.0|   0.0|    0.0|               0.0|           8887.02|              0.0|           6338.57|\n",
      "| kitchen_dining_la...|0.0|0.0|               0.0|    0.0|               0.0|               0.0|              0.0|0.0|10055.900000000001|              0.0|    0.0|0.0|               0.0|               0.0|   0.0|           3598.97|             88.06|   0.0|    0.0|11164.419999999998|           3292.25|              0.0|          30599.58|\n",
      "|     small_appliances|0.0|0.0|               0.0|    0.0|            463.16|            245.05|           1194.6|0.0|           5150.92|              0.0|    0.0|0.0|               0.0|               0.0|   0.0|          10836.53|           6122.95|125.64|    0.0|26620.909999999996|           12804.7|              0.0|         145489.95|\n",
      "|           la_cuisine|0.0|0.0|               0.0|    0.0|               0.0|               0.0|              0.0|0.0|               0.0|              0.0|    0.0|0.0|               0.0|               0.0|   0.0|               0.0|               0.0|   0.0|    0.0|               0.0|           2432.26|              0.0|            147.15|\n",
      "|       bed_bath_table|0.0|0.0|               0.0| 228.24|3289.0600000000004|               0.0|4426.099999999999|0.0|          36764.71|              0.0|    0.0|0.0|           1314.63|               0.0|   0.0|          19790.05|          11550.06|   0.0|    0.0|17413.129999999997| 85193.42000000001|815.6899999999999|1272831.7499999993|\n",
      "| signaling_and_sec...|0.0|0.0|               0.0|    0.0|               0.0|             47.06|              0.0|0.0|           1642.31|              0.0|    0.0|0.0|               0.0|               0.0|   0.0|            398.11|            378.23|   0.0|    0.0|           7139.34|            1087.4|              0.0|20371.910000000003|\n",
      "|            computers|0.0|0.0|         177344.16|    0.0|               0.0|               0.0|              0.0|0.0| 5820.459999999999|              0.0|    0.0|0.0|               0.0|               0.0|   0.0|           6922.21|               0.0|   0.0|    0.0|               0.0|               0.0|              0.0|          41517.19|\n",
      "|     office_furniture|0.0|0.0|               0.0|    0.0|               0.0|               0.0|              0.0|0.0|           2249.63|              0.0|    0.0|0.0|               0.0|               0.0|   0.0|          14090.61|           9228.57|   0.0|    0.0|           1042.51|1176.1000000000001|              0.0|         335444.06|\n",
      "|        watches_gifts|0.0|0.0|1323.5500000000002|    0.0|            138.12|               0.0|              0.0|0.0|32685.100000000002|              0.0|    0.0|0.0|16537.329999999998|           1295.34|   0.0|          48366.55|125784.76000000004|   0.0|    0.0|           5031.67|          34129.01|              0.0|1079176.3099999991|\n",
      "|                 auto|0.0|0.0|               0.0| 927.76|            680.25|            392.14|          5920.93|0.0|          68116.76|4372.400000000001|    0.0|0.0|               0.0|25674.559999999998|3184.5|34215.420000000006|17506.690000000002| 88.56|5553.27|           6499.25| 65890.06000000001|              0.0|476966.89999999997|\n",
      "| fashion_bags_acce...|0.0|0.0|            2585.0|  62.11|          10105.35|               0.0|            150.3|0.0| 34399.18000000001|              0.0|    0.0|0.0|               0.0|               0.0|   0.0|           8842.23|           8480.25|   0.0|    0.0|           5769.02|3558.7999999999997|              0.0|132560.52000000008|\n",
      "| construction_tool...|0.0|0.0|               0.0|    0.0|               0.0|             91.39|              0.0|0.0|            424.62|              0.0|    0.0|0.0|               0.0|               0.0|   0.0|            102.48|             105.9|   0.0|    0.0|           3399.87| 3641.499999999999|              0.0|          49179.58|\n",
      "|           cool_stuff|0.0|0.0|            256.05|  72.52|           9133.09| 695.6099999999999|          2765.75|0.0|          37458.58|           969.73| 929.05|0.0|               0.0|           3747.59|   0.0|          35719.25|36939.439999999995|   0.0|    0.0|          72036.49|18404.160000000003|              0.0| 508797.1100000001|\n",
      "|    cds_dvds_musicals|0.0|0.0|               0.0|    0.0|               0.0|               0.0|              0.0|0.0|               0.0|              0.0|    0.0|0.0|               0.0|               0.0|   0.0|               0.0|               0.0|   0.0|    0.0|               0.0|               0.0|              0.0|            954.99|\n",
      "|                 food|0.0|0.0|               0.0|3453.76|               0.0|             93.29|              0.0|0.0|            842.74|              0.0|    0.0|0.0|               0.0|               0.0|   0.0|            342.66|            642.89|   0.0|    0.0|            326.31|            189.85|              0.0|32018.630000000005|\n",
      "| computers_accesso...|0.0|0.0|19010.620000000003|    0.0|          17479.39|478.28999999999996|         19784.18|0.0|220737.44999999992|              0.0|    0.0|0.0|               0.0| 66750.48000000001|   0.0|259890.43000000005|          25306.47|   0.0|    0.0|64654.649999999994|           14836.0|           831.96|429486.48999999993|\n",
      "|            perfumery|0.0|0.0|               0.0|    0.0|           2961.95| 543.3299999999999|          3397.11|0.0|16835.800000000003|              0.0|9879.24|0.0|               0.0|               0.0|   0.0|          38469.88|         103153.11|   0.0|    0.0|            522.16|20963.170000000002|              0.0| 270894.2499999999|\n",
      "+---------------------+---+---+------------------+-------+------------------+------------------+-----------------+---+------------------+-----------------+-------+---+------------------+------------------+------+------------------+------------------+------+-------+------------------+------------------+-----------------+------------------+\n",
      "only showing top 20 rows\n",
      "\n"
     ]
    },
    {
     "name": "stderr",
     "output_type": "stream",
     "text": [
      "                                                                                \r"
     ]
    }
   ],
   "source": [
    "\n",
    "joined_df = order_payment_df.join(single_joined_table, \"order_id\", \"inner\")\\\n",
    "                            .join(product_df.alias('p'),single_joined_table['product_id'] == product_df['product_id'])\n",
    "joined_df = joined_df.withColumn(\"payment_value\", f.coalesce(joined_df[\"payment_value\"], f.lit(0)))\n",
    "\n",
    "# joined_df.show()\n",
    "\n",
    "revenue_by_product_state = (\n",
    "    joined_df\n",
    "    .groupBy(\"seller_state\", \"product_category_name\")\n",
    "    .agg(f.sum(\"payment_value\").alias(\"total_revenue\"))\n",
    ")\n",
    "\n",
    "pivot_table = (\n",
    "    revenue_by_product_state\n",
    "    .groupBy(\"product_category_name\")\n",
    "    .pivot(\"seller_state\")\n",
    "    .agg(f.first(\"total_revenue\"))  # You can choose any aggregation method that makes sense for your data\n",
    ")\n",
    "\n",
    "# Show the pivot table\n",
    "pivot_table1 = pivot_table.fillna(0)\n",
    "pivot_table1.show()\n",
    "\n"
   ]
  },
  {
   "cell_type": "code",
   "execution_count": 43,
   "metadata": {},
   "outputs": [],
   "source": [
    "pivot_table1.write.format('jdbc').options(url='jdbc:postgresql://localhost:5432/postgres',driver = 'org.postgresql.Driver', dbtable = 'Question_2_pivot_1', user='nikita',password='1234').mode('overwrite').save()"
   ]
  },
  {
   "cell_type": "code",
   "execution_count": 44,
   "metadata": {},
   "outputs": [
    {
     "name": "stdout",
     "output_type": "stream",
     "text": [
      "+------------+--------------------------+-------------------+--------------------+---------------------+--------------------+------------------+------------------+------------------+----------------------+-------------------+--------------------+-----------------+-------------------+--------------------+------------------+---------------------+-------------------+-------------------------------+-------------------------+-------------------------+-------------------+------------------------+-----------------------+-------------------+--------------------+-------------------+--------------------+----------------------+------------------------+-------------------------+---------------------+-------------------+--------------------+-----------------------+--------------------+--------------------+--------------------+--------------------+--------------------+--------------------+---------------------+---------------------------------+------------------+-------------------+-------------------+------------------+--------------+-------------------+--------------------+--------------------+------------------------------+---------------------------------------+----------+-------------------+--------------------+--------------------+-------------------+-------------------+-------------------+-------------------+-------------------+---------------------+----------------------+------------------+-------------------------------------+------------------+-------------------+----------------------+-------------------+-------------------+-------------------+\n",
      "|seller_state|agro_industry_and_commerce|   air_conditioning|                 art|arts_and_craftmanship|               audio|              auto|              baby|    bed_bath_table|books_general_interest|     books_imported|     books_technical|cds_dvds_musicals| christmas_supplies|          cine_photo|         computers|computers_accessories|     consoles_games|construction_tools_construction|construction_tools_lights|construction_tools_safety|         cool_stuff|costruction_tools_garden|costruction_tools_tools|diapers_and_hygiene|              drinks|       dvds_blu_ray|         electronics|fashio_female_clothing|fashion_bags_accessories|fashion_childrens_clothes|fashion_male_clothing|      fashion_shoes|       fashion_sport|fashion_underwear_beach|     fixed_telephony|             flowers|                food|          food_drink|   furniture_bedroom|     furniture_decor|furniture_living_room|furniture_mattress_and_upholstery|      garden_tools|      health_beauty|    home_appliances| home_appliances_2|home_comfort_2|       home_confort|   home_construction|          housewares|industry_commerce_and_business|kitchen_dining_laundry_garden_furniture|la_cuisine|luggage_accessories|        market_place|               music|musical_instruments|   office_furniture|     party_supplies|          perfumery|           pet_shop|security_and_services|signaling_and_security|  small_appliances|small_appliances_home_oven_and_coffee|    sports_leisure|         stationery|tablets_printing_image|          telephony|               toys|      watches_gifts|\n",
      "+------------+--------------------------+-------------------+--------------------+---------------------+--------------------+------------------+------------------+------------------+----------------------+-------------------+--------------------+-----------------+-------------------+--------------------+------------------+---------------------+-------------------+-------------------------------+-------------------------+-------------------------+-------------------+------------------------+-----------------------+-------------------+--------------------+-------------------+--------------------+----------------------+------------------------+-------------------------+---------------------+-------------------+--------------------+-----------------------+--------------------+--------------------+--------------------+--------------------+--------------------+--------------------+---------------------+---------------------------------+------------------+-------------------+-------------------+------------------+--------------+-------------------+--------------------+--------------------+------------------------------+---------------------------------------+----------+-------------------+--------------------+--------------------+-------------------+-------------------+-------------------+-------------------+-------------------+---------------------+----------------------+------------------+-------------------------------------+------------------+-------------------+----------------------+-------------------+-------------------+-------------------+\n",
      "|          AC|                       0.0|                0.0|                 0.0|                  0.0|                 0.0|               0.0|               0.0|               0.0|                   0.0|                0.0|               100.0|              0.0|                0.0|                 0.0|               0.0|                  0.0|                0.0|                            0.0|                      0.0|                      0.0|                0.0|                     0.0|                    0.0|                0.0|                 0.0|                0.0|                 0.0|                   0.0|                     0.0|                      0.0|                  0.0|                0.0|                 0.0|                    0.0|                 0.0|                 0.0|                 0.0|                 0.0|                 0.0|                 0.0|                  0.0|                              0.0|               0.0|                0.0|                0.0|               0.0|           0.0|                0.0|                 0.0|                 0.0|                           0.0|                                    0.0|       0.0|                0.0|                 0.0|                 0.0|                0.0|                0.0|                0.0|                0.0|                0.0|                  0.0|                   0.0|               0.0|                                  0.0|               0.0|                0.0|                   0.0|                0.0|                0.0|                0.0|\n",
      "|          AM|                       0.0|                0.0|                 0.0|                  0.0|                 0.0|               0.0|               0.0|               0.0|                   0.0|                0.0|                 0.0|              0.0|                0.0|                 0.0|               0.0|                  0.0|                0.0|                            0.0|                      0.0|                      0.0|                0.0|                     0.0|                    0.0|                0.0|                 0.0|                0.0|                 0.0|                   0.0|                     0.0|                      0.0|                  0.0|                0.0|                 0.0|                    0.0|                 0.0|                 0.0|                 0.0|                 0.0|                 0.0|                 0.0|                  0.0|                              0.0|               0.0|                0.0|                0.0|               0.0|           0.0|                0.0|                 0.0|                 0.0|                           0.0|                                    0.0|       0.0|                0.0|                 0.0|                 0.0|                0.0|                0.0|                0.0|                0.0|                0.0|                  0.0|                   0.0|               0.0|                                  0.0|               0.0|                0.0|                   0.0|              100.0|                0.0|                0.0|\n",
      "|          BA|                       0.0|                0.0|                 0.0|                  0.0|                 0.0|               0.0|0.3582254354532394|               0.0|                   0.0|                0.0|                 0.0|              0.0|                0.0|                 0.0|58.335037226446204|    6.253294302997194|                0.0|                            0.0|                      0.0|                      0.0|0.08422429180544513|                     0.0|                    0.0|                0.0|0.053080546645751535|                0.0|0.058231698411708464|                   0.0|      0.8503018719667083|                      0.0|                  0.0|                0.0|                 0.0|                    0.0|  0.6621993089167422|                 0.0|                 0.0|  1.7802591022759533|                 0.0|0.021801937359363026|                  0.0|                              0.0|0.9271875816585837| 0.7982508978003592|                0.0|               0.0|           0.0|                0.0|                 0.0|                 0.0|                           0.0|                                    0.0|       0.0|                0.0|                 0.0|                 0.0|                0.0|                0.0|                0.0|                0.0|0.05755079904034634|                  0.0|                   0.0|               0.0|                                  0.0|2.8498763592001413|                0.0|                   0.0|  26.35545026066275|0.11966395280571328|0.43536442655378604|\n",
      "|          CE|         2.069149474638176|                0.0|                 0.0|                  0.0|                 0.0| 3.726943613788759|2.5578749640465794|0.9168724782391421|                   0.0|                0.0|  0.7520089726882552|              0.0|                0.0|                 0.0|               0.0|                  0.0|                0.0|                            0.0|                      0.0|                      0.0|0.29132313407773647|                     0.0|                    0.0|                0.0|                 0.0|                0.0|                 0.0|                   0.0|     0.24950468639779663|                      0.0|                  0.0|                0.0|                 0.0|                    0.0|                 0.0|                 0.0|   13.87424417474246|                 0.0|  2.0076872028319244|   2.507299146919735|   1.0428098783127357|                              0.0|               0.0|  67.47617433110568|                0.0|               0.0|           0.0|                0.0|                 0.0|   2.528107942211002|                           0.0|                                    0.0|       0.0|                0.0|                 0.0|                 0.0|                0.0|                0.0|                0.0|                0.0|                0.0|                  0.0|                   0.0|               0.0|                                  0.0|               0.0|                0.0|                   0.0|                0.0|                0.0|                0.0|\n",
      "|          DF|                       0.0|  4.032174157379796| 0.23375847240770944|                  0.0|  0.7838170386809477|0.6382011593166814|1.2424399783654263| 3.085750687338661|    0.2318727181552632|                0.0|                 0.0|              0.0|                0.0|  0.6439147132457349|               0.0|    16.39892239933614| 0.5805777632046188|             1.0356637409330167|                      0.0|       1.0402608532897264|  8.568538957947212|                     0.0|                    0.0|                0.0| 0.17592867533269255|                0.0|   4.266626887571988|                   0.0|        9.48069986813793|                      0.0|                  0.0|0.07964262611450655|                 0.0|                    0.0|  1.0877706022170275|                 0.0|                 0.0|                 0.0|                 0.0|  3.3735955939023525|   0.7886956068962314|               0.7625577394966536| 5.874265224299209| 16.904191956648294| 0.3493993028338383|1.9263777147003927|           0.0|                0.0|                 0.0|  2.1954870429450035|                           0.0|                                    0.0|       0.0|0.18248659683746815| 0.09245824954157877|                 0.0|                0.0|                0.0|                0.0|  2.778860601011458|0.24658347769673408|                  0.0|                   0.0| 0.434530318190539|                                  0.0| 0.781021243819112|  5.540458576030375|                   0.0| 1.8549629815182007| 2.1779241973699826| 0.1295822772874973|\n",
      "|          ES|                       0.0|  3.104776966955176|                 0.0|                  0.0|                 0.0|0.6554441865390076|               0.0|               0.0|                   0.0|                0.0|                 0.0|              0.0|                0.0|                 0.0|               0.0|   0.7994399958681642| 0.3527270533108756|              7.096895724469408|       0.1527542311618297|                      0.0| 1.1626804982873438|                     0.0|     0.5289150772387503|                0.0|                 0.0|                0.0|  0.0740120073951835|                   0.0|                     0.0|                      0.0|                  0.0|                0.0|                 0.0|                    0.0|  2.7692324664000028|                 0.0|  0.1559299948034478|                 0.0|                 0.0|   1.207642625634463|   0.9972064980135599|                              0.0| 55.40942028440467|  1.116481494574542| 0.6764710847556158|               0.0|           0.0|                0.0| 0.39173880246633147|  12.969233703276368|                           0.0|                                    0.0|       0.0|                0.0|                 0.0|                 0.0| 0.9589970470412496|                0.0|                0.0| 0.9081513996843957|                0.0|                  0.0|   0.07865865103923522|0.4095899370413215|                                  0.0| 4.624396584014912| 3.3455499946262734|                   0.0|0.05365369099786338|                0.0|                0.0|\n",
      "|          GO|                       0.0|                0.0|   7.176178704522789|                  0.0|  0.7640184193984891|  6.31660464137776| 6.435353091812364|  4.72188048215434|                   0.0|                0.0|                 0.0|              0.0|                0.0|                 0.0|               0.0|   21.106286210756256| 0.5867865438194689|              0.528271113882015|                      0.0|        1.599727575201662|  2.950575211477004|                     0.0|       0.58331935790704|                0.0|  0.5533522033593085|  2.587011430831881|                 0.0|                   0.0|     0.16034401311940477|                      0.0|                  0.0|                0.0|                 0.0|                    0.0|  0.3652600346761264|                 0.0|                 0.0|                 0.0|                 0.0| 0.14885429241883263|                  0.0|                              0.0|0.3965607222671001|  4.804943588351792|0.19368233920045197|               0.0|           0.0|                0.0|                 0.0|   9.734204461126764|                           0.0|                                    0.0|       0.0|  4.803428694814667|                 0.0| 0.09832939247648395|                0.0|                0.0|                0.0| 3.6241267492219635|                0.0|                  0.0|                   0.0|1.2744308587654085|                                  0.0|18.231701046215353| 0.1362017309045536|                   0.0|                0.0|0.11856708994072283|                0.0|\n",
      "|          MA|                       0.0|                0.0|                 0.0|                  0.0|                 0.0|               0.0|               0.0|               0.0|                   0.0|                0.0|                 0.0|              0.0|                0.0|                 0.0|               0.0|                  0.0|                0.0|                            0.0|                      0.0|                      0.0|                0.0|                     0.0|                    0.0|                0.0|                 0.0|                0.0|                 0.0|                   0.0|                     0.0|                      0.0|                  0.0|                0.0|                 0.0|                    0.0|                 0.0|                 0.0|                 0.0|                 0.0|                 0.0|                 0.0|                  0.0|                              0.0|               0.0|              100.0|                0.0|               0.0|           0.0|                0.0|                 0.0|                 0.0|                           0.0|                                    0.0|       0.0|                0.0|                 0.0|                 0.0|                0.0|                0.0|                0.0|                0.0|                0.0|                  0.0|                   0.0|               0.0|                                  0.0|               0.0|                0.0|                   0.0|                0.0|                0.0|                0.0|\n",
      "|          MG|       0.11384413363501049|0.42498395052718496| 0.11575982585977078| 0.002671344000503...|0.012703354773545042| 5.401107098835416|2.6691071760974387| 2.915143588268517|   0.08872683951094917|                0.0|                 0.0|              0.0| 0.2559764443439235|0.003387349827887...|0.4615153131841206|   17.502691087682788| 1.9266543294818725|             1.8257078157673718|     0.033668925185336096|                      0.0| 2.9701618566457704|      0.2902218216184156|    0.19368948779432876|                0.0|  0.2004396069621204|                0.0| 0.43190613311085935|                   0.0|      2.7275762278199567|                      0.0| 0.017192861965843402|                0.0| 0.01892697574711442|   0.012569351468087882| 0.25746316740742753|                 0.0| 0.06682245304199082|  0.2852192958543374| 0.06996399799004559|  6.4598592860627395|    3.016735538022321|              0.07654681125575752|  7.45485682373218|   5.22037945739794|0.01779548038091701|0.9007583254985013|           0.0|0.28188189992138374|0.036859631109357395|   8.612279847238137|           0.30586373408441164|                     0.7973513842287722|       0.0| 3.9130899915769817|0.016600551497343425|0.009471417063229232| 0.5758621574443373| 0.1783774296186888|                0.0| 1.3349425148021326|  4.035726803639296|                  0.0|    0.1302218749025701|0.4084262166540705|                    1.250797161083677| 4.171426955686265|  3.347174209657227|   0.07237685040724161|0.40898205285007916|   3.07789020628675| 2.5916635734897766|\n",
      "|          MS|                       0.0|  1.879547989994168|                 0.0|                  0.0|                 0.0|44.424756102765016|               0.0|               0.0|                   0.0|                0.0|                 0.0|              0.0|                0.0|                 0.0|               0.0|                  0.0|                0.0|                            0.0|                      0.0|                      0.0|   9.85271675407884|                     0.0|                    0.0|                0.0|                 0.0|                0.0|                 0.0|                   0.0|                     0.0|                      0.0|                  0.0|                0.0|                 0.0|                    0.0|                 0.0|                 0.0|                 0.0|                 0.0|                 0.0|                 0.0|                  0.0|                              0.0|               0.0|  41.31896535958205|                0.0|               0.0|           0.0|                0.0|                 0.0|                 0.0|                           0.0|                                    0.0|       0.0|                0.0|                 0.0|                 0.0|                0.0|                0.0|                0.0|                0.0|                0.0|                  0.0|                   0.0|               0.0|                                  0.0|               0.0|                0.0|                   0.0|                0.0|   2.52401379357993|                0.0|\n",
      "|          MT|                       0.0|                0.0|                 0.0|                  0.0|                 0.0|               0.0|18.952490941629712|               0.0|                   0.0|                0.0|                 0.0|              0.0|                0.0|                 0.0|               0.0|                  0.0|                0.0|                            0.0|                      0.0|                      0.0|  4.095220883180083|                     0.0|                    0.0|                0.0|                 0.0|                0.0|                 0.0|                   0.0|                     0.0|                      0.0|                  0.0|                0.0|                 0.0|                    0.0|                 0.0|                 0.0|                 0.0|                 0.0|  2.0670716118168757|                 0.0|                  0.0|                              0.0|               0.0|  31.33786178381571|                0.0|               0.0|           0.0|                0.0|                 0.0|                 0.0|                           0.0|                                    0.0|       0.0|                0.0|                 0.0|                 0.0|                0.0|                0.0|                0.0|  43.54735477955762|                0.0|                  0.0|                   0.0|               0.0|                                  0.0|               0.0|                0.0|                   0.0|                0.0|                0.0|                0.0|\n",
      "|          PA|                       0.0|                0.0|                 0.0|                  0.0|                 0.0|               0.0|               0.0|               0.0|                   0.0|                0.0|                 0.0|              0.0|                0.0|                 0.0|               0.0|                  0.0|                0.0|                            0.0|                      0.0|                      0.0|                0.0|                     0.0|                    0.0|                0.0|                 0.0|                0.0|                 0.0|                   0.0|                     0.0|                      0.0|                  0.0|                0.0|                 0.0|                    0.0|                 0.0|                 0.0|                 0.0|                 0.0|                 0.0|                 0.0|                  0.0|                              0.0|               0.0|                0.0|                0.0|               0.0|           0.0|                0.0|                 0.0|                 0.0|                           0.0|                                    0.0|       0.0|                0.0|                 0.0|                 0.0|                0.0|                0.0|                0.0|                0.0|                0.0|                  0.0|                   0.0|               0.0|                                  0.0|             100.0|                0.0|                   0.0|                0.0|                0.0|                0.0|\n",
      "|          PB|                       0.0|                0.0|                 0.0|                  0.0|                 0.0|               0.0|               0.0|6.6024981040726045|                   0.0|                0.0|                 0.0|              0.0|                0.0|                 0.0|               0.0|                  0.0|                0.0|                            0.0|                      0.0|                      0.0|                0.0|                     0.0|                    0.0|                0.0|                 0.0|                0.0|  4.4340593940063595|                   0.0|                     0.0|                      0.0|                  0.0|                0.0|                 0.0|                    0.0|                 0.0|                 0.0|                 0.0|                 0.0|                 0.0|                 0.0|                  0.0|                              0.0|               0.0|                0.0|                0.0|               0.0|           0.0|                0.0|                 0.0|  0.7498330077193126|                           0.0|                                    0.0|       0.0|                0.0|                 0.0|                 0.0|                0.0|                0.0|                0.0|                0.0|                0.0|                  0.0|                   0.0|               0.0|                                  0.0|2.0698002621653253|                0.0|                   0.0|  3.087976053558066|                0.0|  83.05583317847834|\n",
      "|          PE|                       0.0|                0.0|                 0.0|                  0.0| 0.04397841227730997|  24.7073607159416|               0.0|               0.0|                   0.0|                0.0|                 0.0|              0.0|                0.0|                 0.0|               0.0|    64.23588904044493| 1.8017002804802635|                            0.0|                      0.0|                      0.0| 3.6064126491536994|                     0.0|                    0.0|                0.0|                 0.0|                0.0|                 0.0|                   0.0|                     0.0|                      0.0|                  0.0|                0.0|                 0.0|                    0.0|                 0.0|                 0.0|                 0.0|                 0.0|                 0.0|  2.9532418056285055|                  0.0|                              0.0|               0.0|0.28452204319276725|                0.0|               0.0|           0.0|0.11966554850510927|                 0.0|0.060703681541634844|                           0.0|                                    0.0|       0.0|                0.0|                 0.0|                 0.0|                0.0|                0.0|                0.0|                0.0|                0.0|                  0.0|                   0.0|               0.0|                                  0.0|0.4589729529877508|                0.0|                   0.0|0.07833353959240769|0.40267673595880926|  1.246542594295201|\n",
      "|          PI|                       0.0|                0.0|                 0.0|                  0.0|                 0.0|             100.0|               0.0|               0.0|                   0.0|                0.0|                 0.0|              0.0|                0.0|                 0.0|               0.0|                  0.0|                0.0|                            0.0|                      0.0|                      0.0|                0.0|                     0.0|                    0.0|                0.0|                 0.0|                0.0|                 0.0|                   0.0|                     0.0|                      0.0|                  0.0|                0.0|                 0.0|                    0.0|                 0.0|                 0.0|                 0.0|                 0.0|                 0.0|                 0.0|                  0.0|                              0.0|               0.0|                0.0|                0.0|               0.0|           0.0|                0.0|                 0.0|                 0.0|                           0.0|                                    0.0|       0.0|                0.0|                 0.0|                 0.0|                0.0|                0.0|                0.0|                0.0|                0.0|                  0.0|                   0.0|               0.0|                                  0.0|               0.0|                0.0|                   0.0|                0.0|                0.0|                0.0|\n",
      "|          PR|        2.2620212538273936|0.38702109886627584|0.044508095149179416|                  0.0| 0.02945761899575097|2.2324461906166335|3.0349601284067202| 1.291237159579298|   0.35625593427675584|                0.0|  0.0692601159302286|              0.0|0.11592592229627142| 0.17876771187624746|0.4516519553215586|   16.957015299862427|  3.038940182359809|              2.350795378549261|     0.006686490641190218|      0.03851909265157159|  2.330566264981788|     0.07534046392839913|   0.029327125423518525|                0.0| 0.18321428035006787|0.07482566678594216|  1.8629451587582853|  0.011202220708293797|      0.5769270896004232|                      0.0|                  0.0| 0.4205044445653976|0.011202220708293797|                    0.0|0.005623620495356994|                 0.0|0.022357463730583917|0.001469357623337...| 0.16400627898531386|  11.853347748001312|   0.5932701045868141|                              0.0|3.5242438200886705|  9.500956433063646|0.10265864080739927|0.2946048985434008|           0.0|0.02802284216905529| 0.19373793448275295|   3.039355804387369|            0.4538240208313676|                    0.23482122582869197|       0.0|  1.250983807352757| 0.09625727862153693| 0.09338054782167278| 2.5145582870223615| 0.9193670169170696|                0.0|  2.510036032276646| 2.0602703615417073|                  0.0|   0.02597539802072831|0.7070487551520006|                 0.006813069406255684|14.005833349764652|0.31878927228523896|                   0.0| 1.2228683147474169|  2.678231807398483|  3.155761943029457|\n",
      "|          RJ|      0.052022211027402024| 1.1608901846739568| 0.08606469580852488| 0.007687861178627293|                 0.0|   1.8419187411696|2.0055038436622983|1.2152081276148345|    0.9364029548615865|0.08469167557613011|0.006431626575194833|              0.0|0.03418346923410439|                 0.0|               0.0|   2.6625513655548962|0.13907485012958107|             0.4012165022386387|     0.011141980276674839|                      0.0|  3.886482643167267|     0.03830779054520594|                    0.0|                0.0|                 0.0|                0.0|  0.7554957028622613|                   0.0|      0.8922264234303287|     0.007016606842789848|                  0.0|                0.0|                 0.0|                    0.0|                 0.0|0.004959706801156297| 0.06763992162484879|0.004886058206315198|0.027576138154074368|  0.8437614395337517|   0.7032651715237374|              0.13570174448585873|0.8881147275926282| 22.010573812931163| 1.3404380940370724| 4.313723402454399|           0.0|                0.0|  0.3215308268661364|  1.6246869500718613|                           0.0|                   0.009264993231010257|       0.0|0.34040380535555964| 0.05538058695215613|0.021726335478124213| 1.3883380879989395| 0.9709588755610303|0.03211183947350262| 10.852973721413314| 1.8322518370353136|                  0.0|   0.03979444003821269|0.6442095196890104|                                  0.0| 7.215611658787199| 0.5476435863789282|                   0.0| 1.5482270831533989| 12.755625198134455| 13.234101180606975|\n",
      "|          RN|                       0.0|                0.0|                 0.0|                  0.0|                 0.0|0.7161230379595348|               0.0|               0.0|      9.91008839138356|                0.0|                 0.0|              0.0|                0.0|                 0.0|               0.0|                  0.0|                0.0|                            0.0|                      0.0|                      0.0|                0.0|       20.35290245734678|                    0.0|                0.0|                 0.0|                0.0|                 0.0|                   0.0|                     0.0|                      0.0|                  0.0|                0.0|                 0.0|                    0.0|  1.6521126680839266|                 0.0|                 0.0|                 0.0|                 0.0|   58.35246417969708|                  0.0|                              0.0|               0.0| 0.4508114201247071|                0.0|               0.0|           0.0|                0.0|                 0.0|                 0.0|                           0.0|                                    0.0|       0.0|                0.0|                 0.0|                 0.0|                0.0|                0.0|                0.0|                0.0|                0.0|                  0.0|                   0.0|1.0159631717393398|                                  0.0| 7.549534673665094|                0.0|                   0.0|                0.0|                0.0|                0.0|\n",
      "|          RO|                       0.0|                0.0|                 0.0|                  0.0|                 0.0|             100.0|               0.0|               0.0|                   0.0|                0.0|                 0.0|              0.0|                0.0|                 0.0|               0.0|                  0.0|                0.0|                            0.0|                      0.0|                      0.0|                0.0|                     0.0|                    0.0|                0.0|                 0.0|                0.0|                 0.0|                   0.0|                     0.0|                      0.0|                  0.0|                0.0|                 0.0|                    0.0|                 0.0|                 0.0|                 0.0|                 0.0|                 0.0|                 0.0|                  0.0|                              0.0|               0.0|                0.0|                0.0|               0.0|           0.0|                0.0|                 0.0|                 0.0|                           0.0|                                    0.0|       0.0|                0.0|                 0.0|                 0.0|                0.0|                0.0|                0.0|                0.0|                0.0|                  0.0|                   0.0|               0.0|                                  0.0|               0.0|                0.0|                   0.0|                0.0|                0.0|                0.0|\n",
      "|          RS|         2.283134778569638| 0.6636775291844488|0.025346701464394415|  0.07043563968073956|                 0.0|1.4564101272430856| 1.557796933100663|3.9020900687002937|                   0.0|                0.0| 0.10161089481049422|              0.0|                0.0|                 0.0|               0.0|   14.488392819687986| 1.1315595766475646|            0.20978759594144428|       0.7618733083524943|        2.296217091640908|  16.14258161588572|     0.47626521519172516|                    0.0|                0.0| 0.25628157189257633|                0.0|  2.1210288300297835|  0.017971934023909755|       1.292773651154811|      0.06071914268227665|                  0.0|                0.0|                 0.0|                    0.0|   0.314567108546179|                 0.0| 0.07312246622620937|                 0.0|0.061779083429572064|  2.7286056898515674|  0.08666864343001665|                              0.0|3.5597381708819884|   7.96935386370587|                0.0|0.4212580999192921|           0.0|                0.0|  1.3059523224758351|   7.545350674113352|           0.32974689421674813|                     2.5018231877209285|       0.0| 1.8431988644247488|  0.8141218886145243|                 0.0|0.34943310873046973|0.23361497430506428|                0.0|0.11701028765492164| 0.5051368358854974|                  0.0|    1.5998472251154594| 5.965451847586524|                                  0.0|3.9003354521989575| 1.5645913101530937|                   0.0| 1.9178966759899618| 3.8478986372164776| 1.1275416617217704|\n",
      "+------------+--------------------------+-------------------+--------------------+---------------------+--------------------+------------------+------------------+------------------+----------------------+-------------------+--------------------+-----------------+-------------------+--------------------+------------------+---------------------+-------------------+-------------------------------+-------------------------+-------------------------+-------------------+------------------------+-----------------------+-------------------+--------------------+-------------------+--------------------+----------------------+------------------------+-------------------------+---------------------+-------------------+--------------------+-----------------------+--------------------+--------------------+--------------------+--------------------+--------------------+--------------------+---------------------+---------------------------------+------------------+-------------------+-------------------+------------------+--------------+-------------------+--------------------+--------------------+------------------------------+---------------------------------------+----------+-------------------+--------------------+--------------------+-------------------+-------------------+-------------------+-------------------+-------------------+---------------------+----------------------+------------------+-------------------------------------+------------------+-------------------+----------------------+-------------------+-------------------+-------------------+\n",
      "only showing top 20 rows\n",
      "\n"
     ]
    }
   ],
   "source": [
    "from pyspark.sql.window import Window\n",
    "\n",
    "# Calculate total revenue by state and product category\n",
    "revenue_by_product_state = (\n",
    "    joined_df\n",
    "    .groupBy(\"seller_state\", \"product_category_name\")\n",
    "    .agg(f.sum(\"payment_value\").alias(\"total_revenue\"))\n",
    ")\n",
    "\n",
    "# Create a window specification to partition by product category\n",
    "window_spec = Window.partitionBy(\"seller_state\")\n",
    "\n",
    "# Calculate the total revenue for each product category within each state\n",
    "revenue_by_product_state = revenue_by_product_state.withColumn(\n",
    "    \"total_revenue_category_state\",\n",
    "    f.sum(\"total_revenue\").over(window_spec)\n",
    ")\n",
    "\n",
    "# Calculate the percentage of revenue for each product category in each state\n",
    "revenue_by_product_state = revenue_by_product_state.withColumn(\n",
    "    \"percentage_of_revenue\",\n",
    "    (revenue_by_product_state[\"total_revenue\"] / revenue_by_product_state[\"total_revenue_category_state\"]) * 100\n",
    ")\n",
    "\n",
    "# Pivot the table to get state-wise percentages of revenue for each product\n",
    "pivot_table = (\n",
    "    revenue_by_product_state\n",
    "    .groupBy(\"seller_state\")\n",
    "    .pivot(\"product_category_name\")\n",
    "    .agg(f.first(\"percentage_of_revenue\"))\n",
    ")\n",
    "\n",
    "# Fill NaN values with 0\n",
    "pivot_table2 = pivot_table.fillna(0)\n",
    "\n",
    "# Show the pivot table\n",
    "pivot_table2.show()\n"
   ]
  },
  {
   "cell_type": "code",
   "execution_count": 45,
   "metadata": {},
   "outputs": [],
   "source": [
    "pivot_table2.write.format('jdbc').options(url='jdbc:postgresql://localhost:5432/postgres',driver = 'org.postgresql.Driver', dbtable = 'Question_2_pivot_2', user='nikita',password='1234').mode('overwrite').save()"
   ]
  },
  {
   "cell_type": "code",
   "execution_count": 46,
   "metadata": {},
   "outputs": [],
   "source": [
    "spark.stop()"
   ]
  },
  {
   "cell_type": "code",
   "execution_count": null,
   "metadata": {},
   "outputs": [],
   "source": []
  }
 ],
 "metadata": {
  "kernelspec": {
   "display_name": "Spark",
   "language": "python",
   "name": "python3"
  },
  "language_info": {
   "codemirror_mode": {
    "name": "ipython",
    "version": 3
   },
   "file_extension": ".py",
   "mimetype": "text/x-python",
   "name": "python",
   "nbconvert_exporter": "python",
   "pygments_lexer": "ipython3",
   "version": "3.10.12"
  },
  "orig_nbformat": 4
 },
 "nbformat": 4,
 "nbformat_minor": 2
}
