{
 "cells": [
  {
   "cell_type": "code",
   "execution_count": 50,
   "metadata": {},
   "outputs": [],
   "source": [
    "import pyspark.sql.functions as F\n",
    "import os\n",
    "from dotenv import load_dotenv\n",
    "import os"
   ]
  },
  {
   "cell_type": "code",
   "execution_count": 2,
   "metadata": {},
   "outputs": [
    {
     "name": "stderr",
     "output_type": "stream",
     "text": [
      "your 131072x1 screen size is bogus. expect trouble\n",
      "23/09/13 10:48:05 WARN Utils: Your hostname, LAPTOP-GRLQJBNM resolves to a loopback address: 127.0.1.1; using 172.27.87.196 instead (on interface eth0)\n",
      "23/09/13 10:48:05 WARN Utils: Set SPARK_LOCAL_IP if you need to bind to another address\n",
      "Setting default log level to \"WARN\".\n",
      "To adjust logging level use sc.setLogLevel(newLevel). For SparkR, use setLogLevel(newLevel).\n",
      "23/09/13 10:48:07 WARN NativeCodeLoader: Unable to load native-hadoop library for your platform... using builtin-java classes where applicable\n",
      "23/09/13 10:48:09 WARN Utils: Service 'SparkUI' could not bind on port 4040. Attempting port 4041.\n"
     ]
    }
   ],
   "source": [
    "from pyspark.sql import SparkSession\n",
    "\n",
    "spark = SparkSession.builder.appName('Spark project')\\\n",
    "        .config('spark.driver.extraClassPath','/usr/lib/jvm/java-17-openjdk-amd64/lib/postgresql-42.6.0.jar')\\\n",
    "        .getOrCreate()"
   ]
  },
  {
   "cell_type": "code",
   "execution_count": 3,
   "metadata": {},
   "outputs": [
    {
     "name": "stderr",
     "output_type": "stream",
     "text": [
      "                                                                                \r"
     ]
    }
   ],
   "source": [
    "# Defining path to the dataset\n",
    "customer_data_path = \"./Data/olist_customers_dataset.csv\"\n",
    "order_item_path = \"./Data/olist_order_items_dataset.csv\"\n",
    "order_payment_path = \"./Data/olist_order_payments_dataset.csv\"\n",
    "product_category_translation_path= \"./Data/product_category_name_translation.csv\"\n",
    "product_path = './Data/olist_products_dataset.csv'\n",
    "seller_path = './Data/olist_sellers_dataset.csv'\n",
    "geolocation_path = './Data/olist_geolocation_dataset.csv'\n",
    "orders_path = './Data/olist_orders_dataset.csv'\n",
    "reviews = './Data/olist_order_reviews_dataset.csv'\n",
    "\n",
    "# Reading the datasets\n",
    "reviews_df = spark.read.csv(reviews, header=True, inferSchema=True)\n",
    "customer_df = spark.read.csv(customer_data_path, header=True, inferSchema=True)\n",
    "order_item_df = spark.read.csv(order_item_path, header=True, inferSchema=True)\n",
    "order_payment_df = spark.read.csv(order_payment_path, header=True, inferSchema=True)\n",
    "product_category_translation_df = spark.read.csv(product_category_translation_path, header=True, inferSchema=True)\n",
    "seller_df_uncleaned = spark.read.csv(seller_path, header=True, inferSchema=True)\n",
    "product_df_uncleaned = spark.read.csv(product_path, header=True, inferSchema=True)\n",
    "geoloacation_df_uncleaned = spark.read.csv(geolocation_path, header=True, inferSchema= True)\n",
    "orders_df_uncleaned = spark.read.csv(orders_path, header=True, inferSchema= True)"
   ]
  },
  {
   "cell_type": "code",
   "execution_count": 23,
   "metadata": {},
   "outputs": [],
   "source": [
    "# Remove leading and trailing whitespace from all columns\n",
    "seller_df_uncleaned.select([F.trim(F.col(c)).alias(c) for c in seller_df_uncleaned.columns])\n",
    "\n",
    "# Remove whitespace characters between words in all columns\n",
    "seller_df = seller_df_uncleaned.select([F.regexp_replace(F.col(c), r'\\s+', ' ').alias(c) for c in seller_df_uncleaned.columns])"
   ]
  },
  {
   "cell_type": "markdown",
   "metadata": {},
   "source": [
    "# Orders dataframe"
   ]
  },
  {
   "cell_type": "code",
   "execution_count": 27,
   "metadata": {},
   "outputs": [
    {
     "name": "stderr",
     "output_type": "stream",
     "text": [
      "                                                                                \r"
     ]
    },
    {
     "name": "stdout",
     "output_type": "stream",
     "text": [
      "+------------+-----+\n",
      "|order_status|count|\n",
      "+------------+-----+\n",
      "|     shipped| 1107|\n",
      "|    canceled|  625|\n",
      "|    invoiced|  314|\n",
      "|     created|    5|\n",
      "|   delivered|96478|\n",
      "|  processing|  301|\n",
      "|    approved|    2|\n",
      "+------------+-----+\n",
      "\n"
     ]
    }
   ],
   "source": [
    "# harek order ko count check gareko.\n",
    "status_counts = orders_df_uncleaned.groupBy(\"order_status\").count()\n",
    "\n",
    "# unavailable status vako order lai filter gareko\n",
    "unavailableDrop = orders_df_uncleaned.filter(status_counts[\"order_status\"] != \"unavailable\")\n",
    "\n",
    "check = unavailableDrop.groupBy(\"order_status\").count()\n"
   ]
  },
  {
   "cell_type": "code",
   "execution_count": 28,
   "metadata": {},
   "outputs": [
    {
     "name": "stdout",
     "output_type": "stream",
     "text": [
      "+------------+----------------------------+---------------------------------------+----------------------------------------+\n",
      "|order_status|order_approved_at_null_count|order_delivered_carrier_date_null_count|order_delivered_customer_date_null_count|\n",
      "+------------+----------------------------+---------------------------------------+----------------------------------------+\n",
      "|     shipped|                           0|                                      0|                                    1107|\n",
      "|    canceled|                         141|                                    550|                                     619|\n",
      "|    invoiced|                           0|                                    314|                                     314|\n",
      "|     created|                           5|                                      5|                                       5|\n",
      "|   delivered|                          14|                                      2|                                       8|\n",
      "|  processing|                           0|                                    301|                                     301|\n",
      "|    approved|                           0|                                      2|                                       2|\n",
      "+------------+----------------------------+---------------------------------------+----------------------------------------+\n",
      "\n"
     ]
    }
   ],
   "source": [
    "\n",
    "columns_to_check = [\"order_approved_at\", \"order_delivered_carrier_date\", \"order_delivered_customer_date\"]\n",
    "\n",
    "grouped_null_counts = unavailableDrop.groupBy(\"order_status\").agg(\n",
    "    *[F.sum(F.col(c).isNull().cast(\"int\")).alias(f\"{c}_null_count\") for c in columns_to_check]\n",
    ")\n"
   ]
  },
  {
   "cell_type": "code",
   "execution_count": 29,
   "metadata": {},
   "outputs": [
    {
     "data": {
      "text/plain": [
       "98832"
      ]
     },
     "execution_count": 29,
     "metadata": {},
     "output_type": "execute_result"
    }
   ],
   "source": [
    "delivered_drop = unavailableDrop.filter(~(F.col(\"order_status\") == \"delivered\") | F.col(\"order_approved_at\").isNotNull() |  F.col(\"order_delivered_carrier_date\").isNotNull() | F.col(\"order_delivered_customer_date\").isNotNull())\n",
    "\n",
    "columns_to_check = [\"order_approved_at\", \"order_delivered_carrier_date\", \"order_delivered_customer_date\"]\n",
    "\n",
    "grouped_null_counts = delivered_drop.groupBy(\"order_status\").agg(\n",
    "    *[F.sum(F.col(c).isNull().cast(\"int\")).alias(f\"{c}_null_count\") for c in columns_to_check]\n",
    ")\n",
    "\n"
   ]
  },
  {
   "cell_type": "code",
   "execution_count": 30,
   "metadata": {},
   "outputs": [],
   "source": [
    "orders_df = delivered_drop"
   ]
  },
  {
   "cell_type": "code",
   "execution_count": 31,
   "metadata": {},
   "outputs": [],
   "source": [
    "# orders_df.write.parquet(f\"{parquetFilePath}/orders.parquet\", mode=\"overwrite\")"
   ]
  },
  {
   "cell_type": "markdown",
   "metadata": {},
   "source": [
    "### Replacing column on product dataset with content from product category translation dataset"
   ]
  },
  {
   "cell_type": "code",
   "execution_count": 32,
   "metadata": {},
   "outputs": [
    {
     "name": "stdout",
     "output_type": "stream",
     "text": [
      "+--------------------+-------------------+--------------------------+------------------+----------------+-----------------+-----------------+----------------+---------------------+\n",
      "|          product_id|product_name_lenght|product_description_lenght|product_photos_qty|product_weight_g|product_length_cm|product_height_cm|product_width_cm|product_category_name|\n",
      "+--------------------+-------------------+--------------------------+------------------+----------------+-----------------+-----------------+----------------+---------------------+\n",
      "|1e9e8ef04dbcff454...|                 40|                       287|                 1|             225|               16|               10|              14|            perfumery|\n",
      "|3aa071139cb16b67c...|                 44|                       276|                 1|            1000|               30|               18|              20|                  art|\n",
      "|96bd76ec8810374ed...|                 46|                       250|                 1|             154|               18|                9|              15|       sports_leisure|\n",
      "|cef67bcfe19066a93...|                 27|                       261|                 1|             371|               26|                4|              26|                 baby|\n",
      "|9dc1a7de274444849...|                 37|                       402|                 4|             625|               20|               17|              13|           housewares|\n",
      "|41d3672d4792049fa...|                 60|                       745|                 1|             200|               38|                5|              11|  musical_instruments|\n",
      "|732bd381ad09e530f...|                 56|                      1272|                 4|           18350|               70|               24|              44|           cool_stuff|\n",
      "|2548af3e6e77a690c...|                 56|                       184|                 2|             900|               40|                8|              40|      furniture_decor|\n",
      "|37cc742be07708b53...|                 57|                       163|                 1|             400|               27|               13|              17|      home_appliances|\n",
      "|8c92109888e8cdf9d...|                 36|                      1156|                 1|             600|               17|               10|              12|                 toys|\n",
      "|14aa47b7fe5c25522...|                 54|                       630|                 1|            1100|               16|               10|              16|       bed_bath_table|\n",
      "|03b63c5fc16691530...|                 49|                       728|                 4|            7150|               50|               19|              45|                 baby|\n",
      "|cf55509ea8edaaac1...|                 43|                      1827|                 3|             250|               17|                7|              17|  musical_instruments|\n",
      "|7bb6f29c2be577161...|                 51|                      2083|                 2|             600|               68|               11|              13|      furniture_decor|\n",
      "|eb31436580a610f20...|                 59|                      1602|                 4|             200|               17|                7|              17| construction_tool...|\n",
      "|3bb7f144022e67327...|                 22|                      3021|                 1|             800|               16|                2|              11|       sports_leisure|\n",
      "|6a2fb4dd53d2cdb88...|                 39|                       346|                 2|             400|               27|                5|              20|            perfumery|\n",
      "|a1b71017a84f92fd8...|                 59|                       636|                 1|             900|               40|               15|              20| computers_accesso...|\n",
      "|a0736b92e52f6cead...|                 56|                       296|                 2|            1700|              100|                7|              15|      furniture_decor|\n",
      "|f53103a77d9cf245e...|                 52|                       206|                 1|             500|               16|               10|              16|       bed_bath_table|\n",
      "+--------------------+-------------------+--------------------------+------------------+----------------+-----------------+-----------------+----------------+---------------------+\n",
      "only showing top 20 rows\n",
      "\n"
     ]
    }
   ],
   "source": [
    "# product ko name lai english ma translate gareko.\n",
    "product_joined_df= product_df_uncleaned.join(product_category_translation_df, \"Product_category_name\", \"left\")\n",
    "\n",
    "product_df = product_joined_df.drop(\"product_category_name\")\n",
    "\n",
    "product_df = product_df.withColumnRenamed(\"product_category_name_english\", \"product_category_name\")\n",
    "\n"
   ]
  },
  {
   "cell_type": "code",
   "execution_count": 33,
   "metadata": {},
   "outputs": [
    {
     "name": "stdout",
     "output_type": "stream",
     "text": [
      "+--------------------+----------------+-----------------+-----------------+----------------+---------------------+\n",
      "|          product_id|product_weight_g|product_length_cm|product_height_cm|product_width_cm|product_category_name|\n",
      "+--------------------+----------------+-----------------+-----------------+----------------+---------------------+\n",
      "|1e9e8ef04dbcff454...|             225|               16|               10|              14|            perfumery|\n",
      "|3aa071139cb16b67c...|            1000|               30|               18|              20|                  art|\n",
      "|96bd76ec8810374ed...|             154|               18|                9|              15|       sports_leisure|\n",
      "|cef67bcfe19066a93...|             371|               26|                4|              26|                 baby|\n",
      "|9dc1a7de274444849...|             625|               20|               17|              13|           housewares|\n",
      "|41d3672d4792049fa...|             200|               38|                5|              11|  musical_instruments|\n",
      "|732bd381ad09e530f...|           18350|               70|               24|              44|           cool_stuff|\n",
      "|2548af3e6e77a690c...|             900|               40|                8|              40|      furniture_decor|\n",
      "|37cc742be07708b53...|             400|               27|               13|              17|      home_appliances|\n",
      "|8c92109888e8cdf9d...|             600|               17|               10|              12|                 toys|\n",
      "|14aa47b7fe5c25522...|            1100|               16|               10|              16|       bed_bath_table|\n",
      "|03b63c5fc16691530...|            7150|               50|               19|              45|                 baby|\n",
      "|cf55509ea8edaaac1...|             250|               17|                7|              17|  musical_instruments|\n",
      "|7bb6f29c2be577161...|             600|               68|               11|              13|      furniture_decor|\n",
      "|eb31436580a610f20...|             200|               17|                7|              17| construction_tool...|\n",
      "|3bb7f144022e67327...|             800|               16|                2|              11|       sports_leisure|\n",
      "|6a2fb4dd53d2cdb88...|             400|               27|                5|              20|            perfumery|\n",
      "|a1b71017a84f92fd8...|             900|               40|               15|              20| computers_accesso...|\n",
      "|a0736b92e52f6cead...|            1700|              100|                7|              15|      furniture_decor|\n",
      "|f53103a77d9cf245e...|             500|               16|               10|              16|       bed_bath_table|\n",
      "+--------------------+----------------+-----------------+-----------------+----------------+---------------------+\n",
      "only showing top 20 rows\n",
      "\n"
     ]
    }
   ],
   "source": [
    "product_df = product_df.drop(F.col(\"product_name_lenght\"),F.col(\"product_description_lenght\"),F.col(\"product_photos_qty\"))\n"
   ]
  },
  {
   "cell_type": "code",
   "execution_count": 34,
   "metadata": {},
   "outputs": [
    {
     "name": "stderr",
     "output_type": "stream",
     "text": [
      "[Stage 93:>                                                         (0 + 1) / 1]\r"
     ]
    },
    {
     "name": "stdout",
     "output_type": "stream",
     "text": [
      "+----------+----------------+-----------------+-----------------+----------------+---------------------+\n",
      "|product_id|product_weight_g|product_length_cm|product_height_cm|product_width_cm|product_category_name|\n",
      "+----------+----------------+-----------------+-----------------+----------------+---------------------+\n",
      "|         0|               2|                2|                2|               2|                  623|\n",
      "+----------+----------------+-----------------+-----------------+----------------+---------------------+\n",
      "\n"
     ]
    },
    {
     "name": "stderr",
     "output_type": "stream",
     "text": [
      "                                                                                \r"
     ]
    }
   ],
   "source": [
    "product_df.select([F.count(F.when(F.isnan(c) | F.col(c).isNull(), c)).alias(c) for c in product_df.columns]).show()"
   ]
  },
  {
   "cell_type": "code",
   "execution_count": 35,
   "metadata": {},
   "outputs": [
    {
     "data": {
      "text/plain": [
       "32951"
      ]
     },
     "execution_count": 35,
     "metadata": {},
     "output_type": "execute_result"
    }
   ],
   "source": [
    "product_df.count()"
   ]
  },
  {
   "cell_type": "code",
   "execution_count": 36,
   "metadata": {},
   "outputs": [
    {
     "name": "stdout",
     "output_type": "stream",
     "text": [
      "+--------------------+----------------+-----------------+-----------------+----------------+---------------------+\n",
      "|          product_id|product_weight_g|product_length_cm|product_height_cm|product_width_cm|product_category_name|\n",
      "+--------------------+----------------+-----------------+-----------------+----------------+---------------------+\n",
      "|1e9e8ef04dbcff454...|             225|               16|               10|              14|            perfumery|\n",
      "|3aa071139cb16b67c...|            1000|               30|               18|              20|                  art|\n",
      "|96bd76ec8810374ed...|             154|               18|                9|              15|       sports_leisure|\n",
      "|cef67bcfe19066a93...|             371|               26|                4|              26|                 baby|\n",
      "|9dc1a7de274444849...|             625|               20|               17|              13|           housewares|\n",
      "|41d3672d4792049fa...|             200|               38|                5|              11|  musical_instruments|\n",
      "|732bd381ad09e530f...|           18350|               70|               24|              44|           cool_stuff|\n",
      "|2548af3e6e77a690c...|             900|               40|                8|              40|      furniture_decor|\n",
      "|37cc742be07708b53...|             400|               27|               13|              17|      home_appliances|\n",
      "|8c92109888e8cdf9d...|             600|               17|               10|              12|                 toys|\n",
      "|14aa47b7fe5c25522...|            1100|               16|               10|              16|       bed_bath_table|\n",
      "|03b63c5fc16691530...|            7150|               50|               19|              45|                 baby|\n",
      "|cf55509ea8edaaac1...|             250|               17|                7|              17|  musical_instruments|\n",
      "|7bb6f29c2be577161...|             600|               68|               11|              13|      furniture_decor|\n",
      "|eb31436580a610f20...|             200|               17|                7|              17| construction_tool...|\n",
      "|3bb7f144022e67327...|             800|               16|                2|              11|       sports_leisure|\n",
      "|6a2fb4dd53d2cdb88...|             400|               27|                5|              20|            perfumery|\n",
      "|a1b71017a84f92fd8...|             900|               40|               15|              20| computers_accesso...|\n",
      "|a0736b92e52f6cead...|            1700|              100|                7|              15|      furniture_decor|\n",
      "|f53103a77d9cf245e...|             500|               16|               10|              16|       bed_bath_table|\n",
      "+--------------------+----------------+-----------------+-----------------+----------------+---------------------+\n",
      "only showing top 20 rows\n",
      "\n"
     ]
    }
   ],
   "source": [
    "products_df = product_df.filter(~(F.col(\"product_category_name\").isNull()))\n"
   ]
  },
  {
   "cell_type": "code",
   "execution_count": 37,
   "metadata": {},
   "outputs": [
    {
     "name": "stdout",
     "output_type": "stream",
     "text": [
      "+---------------------+-----+\n",
      "|product_category_name|count|\n",
      "+---------------------+-----+\n",
      "|                  art|   55|\n",
      "|              flowers|   14|\n",
      "|    home_construction|  225|\n",
      "| fashion_male_clot...|   95|\n",
      "| kitchen_dining_la...|   94|\n",
      "|     small_appliances|  231|\n",
      "|           la_cuisine|   10|\n",
      "|       bed_bath_table| 3029|\n",
      "| signaling_and_sec...|   93|\n",
      "|     office_furniture|  309|\n",
      "|            computers|   30|\n",
      "|        watches_gifts| 1329|\n",
      "|                 auto| 1900|\n",
      "| fashion_bags_acce...|  849|\n",
      "| construction_tool...|   78|\n",
      "|           cool_stuff|  789|\n",
      "|    cds_dvds_musicals|    1|\n",
      "|                 food|   82|\n",
      "| computers_accesso...| 1639|\n",
      "|            perfumery|  868|\n",
      "+---------------------+-----+\n",
      "only showing top 20 rows\n",
      "\n"
     ]
    }
   ],
   "source": [
    "products_count =  products_df.groupBy(F.col(\"product_category_name\")).count()\n"
   ]
  },
  {
   "cell_type": "code",
   "execution_count": 38,
   "metadata": {},
   "outputs": [
    {
     "data": {
      "text/plain": [
       "32328"
      ]
     },
     "execution_count": 38,
     "metadata": {},
     "output_type": "execute_result"
    }
   ],
   "source": [
    "products_df.count()"
   ]
  },
  {
   "cell_type": "code",
   "execution_count": 39,
   "metadata": {},
   "outputs": [
    {
     "name": "stderr",
     "output_type": "stream",
     "text": [
      "                                                                                \r"
     ]
    },
    {
     "name": "stdout",
     "output_type": "stream",
     "text": [
      "+----------+----------------+-----------------+-----------------+----------------+---------------------+\n",
      "|product_id|product_weight_g|product_length_cm|product_height_cm|product_width_cm|product_category_name|\n",
      "+----------+----------------+-----------------+-----------------+----------------+---------------------+\n",
      "|         0|               1|                1|                1|               1|                    0|\n",
      "+----------+----------------+-----------------+-----------------+----------------+---------------------+\n",
      "\n"
     ]
    }
   ],
   "source": [
    "products_df.select([F.count(F.when(F.isnan(c) | F.col(c).isNull(), c)).alias(c) for c in products_df.columns]).show()"
   ]
  },
  {
   "cell_type": "code",
   "execution_count": 43,
   "metadata": {},
   "outputs": [
    {
     "name": "stdout",
     "output_type": "stream",
     "text": [
      "+--------------------+----------------+-----------------+-----------------+----------------+---------------------+\n",
      "|          product_id|product_weight_g|product_length_cm|product_height_cm|product_width_cm|product_category_name|\n",
      "+--------------------+----------------+-----------------+-----------------+----------------+---------------------+\n",
      "|1e9e8ef04dbcff454...|             225|               16|               10|              14|            perfumery|\n",
      "|3aa071139cb16b67c...|            1000|               30|               18|              20|                  art|\n",
      "|96bd76ec8810374ed...|             154|               18|                9|              15|       sports_leisure|\n",
      "|cef67bcfe19066a93...|             371|               26|                4|              26|                 baby|\n",
      "|9dc1a7de274444849...|             625|               20|               17|              13|           housewares|\n",
      "|41d3672d4792049fa...|             200|               38|                5|              11|  musical_instruments|\n",
      "|732bd381ad09e530f...|           18350|               70|               24|              44|           cool_stuff|\n",
      "|2548af3e6e77a690c...|             900|               40|                8|              40|      furniture_decor|\n",
      "|37cc742be07708b53...|             400|               27|               13|              17|      home_appliances|\n",
      "|8c92109888e8cdf9d...|             600|               17|               10|              12|                 toys|\n",
      "|14aa47b7fe5c25522...|            1100|               16|               10|              16|       bed_bath_table|\n",
      "|03b63c5fc16691530...|            7150|               50|               19|              45|                 baby|\n",
      "|cf55509ea8edaaac1...|             250|               17|                7|              17|  musical_instruments|\n",
      "|7bb6f29c2be577161...|             600|               68|               11|              13|      furniture_decor|\n",
      "|eb31436580a610f20...|             200|               17|                7|              17| construction_tool...|\n",
      "|3bb7f144022e67327...|             800|               16|                2|              11|       sports_leisure|\n",
      "|6a2fb4dd53d2cdb88...|             400|               27|                5|              20|            perfumery|\n",
      "|a1b71017a84f92fd8...|             900|               40|               15|              20| computers_accesso...|\n",
      "|a0736b92e52f6cead...|            1700|              100|                7|              15|      furniture_decor|\n",
      "|f53103a77d9cf245e...|             500|               16|               10|              16|       bed_bath_table|\n",
      "+--------------------+----------------+-----------------+-----------------+----------------+---------------------+\n",
      "only showing top 20 rows\n",
      "\n"
     ]
    }
   ],
   "source": [
    "product_df = products_df.filter(~F.col('product_weight_g').isNull())\n"
   ]
  },
  {
   "cell_type": "code",
   "execution_count": 40,
   "metadata": {},
   "outputs": [
    {
     "data": {
      "text/plain": [
       "32951"
      ]
     },
     "execution_count": 40,
     "metadata": {},
     "output_type": "execute_result"
    }
   ],
   "source": [
    "product_df.count()"
   ]
  },
  {
   "cell_type": "code",
   "execution_count": 41,
   "metadata": {},
   "outputs": [],
   "source": [
    "# product_df.write.parquet(f\"{parquetFilePath}/product.parquet\", mode=\"overwrite\")"
   ]
  },
  {
   "cell_type": "markdown",
   "metadata": {},
   "source": [
    "### Geolocation table"
   ]
  },
  {
   "cell_type": "code",
   "execution_count": 44,
   "metadata": {},
   "outputs": [
    {
     "name": "stderr",
     "output_type": "stream",
     "text": [
      "[Stage 121:==============>                                          (2 + 6) / 8]\r"
     ]
    },
    {
     "name": "stdout",
     "output_type": "stream",
     "text": [
      "+---------------------------+----------------------------------+\n",
      "|geolocation_zip_code_prefix|count(geolocation_zip_code_prefix)|\n",
      "+---------------------------+----------------------------------+\n",
      "|                       1238|                               164|\n",
      "|                       2122|                                33|\n",
      "|                       2142|                                 5|\n",
      "|                       2366|                                33|\n",
      "|                       2866|                                41|\n",
      "|                       3175|                                32|\n",
      "|                       3918|                                50|\n",
      "|                       4101|                                72|\n",
      "|                       4935|                                15|\n",
      "|                       5518|                                27|\n",
      "|                       1025|                                15|\n",
      "|                       1127|                                40|\n",
      "|                       1522|                                41|\n",
      "|                       1507|                                42|\n",
      "|                       2235|                                27|\n",
      "|                       2563|                                36|\n",
      "|                       2811|                                11|\n",
      "|                       3179|                                33|\n",
      "|                       3226|                                24|\n",
      "|                       3475|                                50|\n",
      "+---------------------------+----------------------------------+\n",
      "only showing top 20 rows\n",
      "\n"
     ]
    },
    {
     "name": "stderr",
     "output_type": "stream",
     "text": [
      "                                                                                \r"
     ]
    }
   ],
   "source": [
    "geoloacation_df_uncleaned.select('geolocation_zip_code_prefix').groupBy(F.col('geolocation_zip_code_prefix')).agg(F.count(F.col('geolocation_zip_code_prefix'))).show()"
   ]
  },
  {
   "cell_type": "code",
   "execution_count": 45,
   "metadata": {},
   "outputs": [],
   "source": [
    "geolocation_avg_df = geoloacation_df_uncleaned\\\n",
    "    .groupBy(F.col('geolocation_zip_code_prefix'))\\\n",
    "    .agg(F.avg(F.col('geolocation_lat')).alias('geolocation_lat'), F.avg(F.col('geolocation_lng')).alias('geolocation_lng'))\\\n",
    "    .orderBy(F.col('geolocation_zip_code_prefix'))"
   ]
  },
  {
   "cell_type": "code",
   "execution_count": 47,
   "metadata": {},
   "outputs": [],
   "source": [
    "geolocation_df = geolocation_avg_df"
   ]
  },
  {
   "cell_type": "code",
   "execution_count": 49,
   "metadata": {},
   "outputs": [],
   "source": [
    "# geolocation_df.write.parquet(f\"{parquetFilePath}/geolocation.parquet\", mode=\"overwrite\")"
   ]
  },
  {
   "cell_type": "markdown",
   "metadata": {},
   "source": [
    "### saving data into postgresql"
   ]
  },
  {
   "cell_type": "code",
   "execution_count": 51,
   "metadata": {},
   "outputs": [],
   "source": [
    "load_dotenv()\n",
    "\n",
    "Pg_user = os.getenv(\"POSTGRES_USER\")\n",
    "Pg_password = os.getenv(\"POSTGRES_PASSWORD\")"
   ]
  },
  {
   "cell_type": "code",
   "execution_count": 52,
   "metadata": {},
   "outputs": [
    {
     "name": "stderr",
     "output_type": "stream",
     "text": [
      "                                                                                \r"
     ]
    }
   ],
   "source": [
    "customer_df.write.format('jdbc').options(url='jdbc:postgresql://localhost:5432/postgres',driver = 'org.postgresql.Driver', dbtable = 'customer_df', user=Pg_user,password=Pg_password).mode('overwrite').save()\n"
   ]
  },
  {
   "cell_type": "code",
   "execution_count": null,
   "metadata": {},
   "outputs": [],
   "source": [
    "customer_df.write.format('jdbc').options(url='jdbc:postgresql://localhost:5432/postgres',driver = 'org.postgresql.Driver', dbtable = 'customer_df', user=Pg_user,password=Pg_password).mode('overwrite').save()\n",
    "\n",
    "order_item_df.write.format('jdbc').options(url='jdbc:postgresql://localhost:5432/postgres',driver = 'org.postgresql.Driver', dbtable = 'order_item_df', user=Pg_user,password=Pg_password).mode('overwrite').save()\n",
    "\n",
    "order_payment_df.write.format('jdbc').options(url='jdbc:postgresql://localhost:5432/postgres',driver = 'org.postgresql.Driver', dbtable = 'order_payment_df', user=Pg_user,password=Pg_password).mode('overwrite').save()\n",
    "\n",
    "seller_df.write.format('jdbc').options(url='jdbc:postgresql://localhost:5432/postgres',driver = 'org.postgresql.Driver', dbtable = 'seller_df', user=Pg_user,password=Pg_password).mode('overwrite').save()\n",
    "\n",
    "orders_df.write.format('jdbc').options(url='jdbc:postgresql://localhost:5432/postgres',driver = 'org.postgresql.Driver', dbtable = 'orders_df', user=Pg_user,password=Pg_password).mode('overwrite').save()\n",
    "\n",
    "product_df.write.format('jdbc').options(url='jdbc:postgresql://localhost:5432/postgres',driver = 'org.postgresql.Driver', dbtable = 'product_df', user=Pg_user,password=Pg_password).mode('overwrite').save()\n",
    "\n",
    "geolocation_df.write.format('jdbc').options(url='jdbc:postgresql://localhost:5432/postgres',driver = 'org.postgresql.Driver', dbtable = 'geolocation_df', user=Pg_user,password=Pg_password).mode('overwrite').save()"
   ]
  },
  {
   "cell_type": "markdown",
   "metadata": {},
   "source": [
    "### Reading data from beaver"
   ]
  },
  {
   "cell_type": "markdown",
   "metadata": {},
   "source": []
  }
 ],
 "metadata": {
  "kernelspec": {
   "display_name": "Spark",
   "language": "python",
   "name": "python3"
  },
  "language_info": {
   "codemirror_mode": {
    "name": "ipython",
    "version": 3
   },
   "file_extension": ".py",
   "mimetype": "text/x-python",
   "name": "python",
   "nbconvert_exporter": "python",
   "pygments_lexer": "ipython3",
   "version": "3.10.12"
  },
  "orig_nbformat": 4
 },
 "nbformat": 4,
 "nbformat_minor": 2
}
